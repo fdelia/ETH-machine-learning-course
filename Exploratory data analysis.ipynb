{
 "cells": [
  {
   "cell_type": "code",
   "execution_count": 1,
   "metadata": {
    "collapsed": true
   },
   "outputs": [],
   "source": [
    "import numpy as np\n",
    "import matplotlib.pyplot as plt"
   ]
  },
  {
   "cell_type": "code",
   "execution_count": 2,
   "metadata": {
    "collapsed": true
   },
   "outputs": [],
   "source": [
    "#load_n = 50 # from 280\n",
    "X_train = np.load('data/X_train.npy')#[0:load_n]\n",
    "y = np.genfromtxt('data/y_1.csv', delimiter='\\n')#[0:load_n]\n",
    "#data_test = np.load('data/X_test.npy')"
   ]
  },
  {
   "cell_type": "code",
   "execution_count": 36,
   "metadata": {},
   "outputs": [
    {
     "data": {
      "image/png": "[encoded data removed]",
      "text/plain": [
       "<matplotlib.figure.Figure at 0x1e20615f8>"
      ]
     },
     "metadata": {},
     "output_type": "display_data"
    }
   ],
   "source": [
    "# Let's take a look at the values\n",
    "# 0 has age 20, 9 has 52, 3 has age  84,\n",
    "plt.hist(X_train[0], 50, normed=1, facecolor='green', alpha=0.75, label='age 20')\n",
    "plt.hist(X_train[9], 50, normed=1, facecolor='blue', alpha=0.75, label='age 52')\n",
    "plt.hist(X_train[3], 50, normed=1, facecolor='red', alpha=0.75, label='age 84')\n",
    "plt.ylim([0, 0.0006])\n",
    "#plt.xlim([0, 2000]) # nearly no values >2000\n",
    "plt.legend()\n",
    "plt.show()"
   ]
  },
  {
   "cell_type": "code",
   "execution_count": 7,
   "metadata": {
    "collapsed": true
   },
   "outputs": [],
   "source": [
    "stats = []\n",
    "for i in range(0, len(X_train)):\n",
    "    d = X_train[i]\n",
    "    stats.append([\n",
    "        np.mean(d),\n",
    "        np.std(d),\n",
    "        np.var(d),\n",
    "        np.max(d),\n",
    "        np.count_nonzero(d),\n",
    "        \n",
    "        # make bins\n",
    "        ((1 < d) & (d <= 600)).sum(),\n",
    "        ((600 < d) & (d <= 900)).sum(),\n",
    "        ((900 < d) & (d <= 1200)).sum(),\n",
    "        ((1200 < d) & (d <= 1600)).sum(),\n",
    "    ])\n",
    "\n",
    "vlog = np.vectorize(lambda x: np.log(x + 1))\n",
    "y_log = vlog(y)"
   ]
  },
  {
   "cell_type": "code",
   "execution_count": 61,
   "metadata": {},
   "outputs": [
    {
     "name": "stdout",
     "output_type": "stream",
     "text": [
      "mean: 3472866.09663\n",
      "median: 0.0\n",
      "std: 6483530.51802\n",
      "var: 2821063166.15\n",
      "max: 48540935.0\n",
      "non zero: 24848754508.0\n",
      "\n",
      "1 ... 600: 5511038229.0\n",
      "600 ... 900: 6925174661.0\n",
      "900 ... 1200: 6018091890.0\n",
      "1200 ... 1600: 6331339441.0\n"
     ]
    }
   ],
   "source": [
    "# Correlations of statistics with age\n",
    "print(\"mean:\", np.correlate([x[0] for x in stats], y)[0])\n",
    "print(\"std:\", np.correlate([x[2] for x in stats], y)[0])\n",
    "print(\"var:\", np.correlate([x[3] for x in stats], y)[0])\n",
    "print(\"max:\", np.correlate([x[4] for x in stats], y)[0])\n",
    "print(\"non zero:\", np.correlate([x[5] for x in stats], y)[0])\n",
    "print()\n",
    "print(\"1 ... 600:\", np.correlate([x[6] for x in stats], y)[0])\n",
    "print(\"600 ... 900:\", np.correlate([x[7] for x in stats], y)[0])\n",
    "print(\"900 ... 1200:\", np.correlate([x[8] for x in stats], y)[0])\n",
    "print(\"1200 ... 1600:\", np.correlate([x[9] for x in stats], y)[0])"
   ]
  },
  {
   "cell_type": "code",
   "execution_count": 35,
   "metadata": {},
   "outputs": [
    {
     "data": {
      "image/png": "[encoded data removed]",
      "text/plain": [
       "<matplotlib.figure.Figure at 0x1e739a898>"
      ]
     },
     "metadata": {},
     "output_type": "display_data"
    }
   ],
   "source": [
    "#np.save('data/X_train_sm.npy', X_train[:50])\n",
    "#np.savetxt('data/y_1_log.csv', y_log, delimiter='\\n')\n",
    "\n",
    "plt.plot(list(range(0, len(X_train[0][672000 : -786000]))), X_train[0][672000 : -786000], color='green', alpha=0.75, label='age 20')\n",
    "plt.plot(list(range(0, len(X_train[9][672000 : -786000]))), X_train[9][672000 : -786000], color='blue', alpha=0.75, label='age 52')\n",
    "plt.plot(list(range(0, len(X_train[3][672000 : -786000]))), X_train[3][672000 : -786000], color='red', alpha=0.75, label='age 84')\n",
    "plt.legend()\n",
    "plt.show()"
   ]
  },
  {
   "cell_type": "code",
   "execution_count": 5,
   "metadata": {
    "collapsed": true
   },
   "outputs": [],
   "source": [
    "#for i in range(0, len(X_train)):\n",
    "#    d = X_train[i]\n",
    "#    print(d[0:672000].sum(), d[-786000:].sum())\n",
    "\n",
    "l = 60\n",
    "row = X_train[1][672000 : -786000]\n",
    "num_bins = int(len(row) / l)\n",
    "row = row[0 : num_bins*l] # crop last elements, they are probably 0 anyway\n",
    "splits = np.split(row, num_bins)\n",
    "#list(zip(np.mean(splits, axis=1), np.max(splits, axis=1)))"
   ]
  },
  {
   "cell_type": "code",
   "execution_count": null,
   "metadata": {
    "collapsed": true
   },
   "outputs": [],
   "source": [
    "from sklearn.preprocessing import StandardScaler, Normalizer\n",
    "sc = StandardScaler()\n",
    "no = Normalizer()\n",
    "\n",
    "X_train = sc.fit_transform(X_train)\n",
    "\n",
    "plt.plot(list(range(0, len(X_train[0][672000 : -786000]))), X_train[0][672000 : -786000], color='green', alpha=0.75, label='age 20')\n",
    "plt.plot(list(range(0, len(X_train[1][672000 : -786000]))), X_train[1][672000 : -786000], color='blue', alpha=0.75, label='age 25')\n",
    "plt.plot(list(range(0, len(X_train[4][672000 : -786000]))), X_train[4][672000 : -786000], color='red', alpha=0.75, label='age 23')\n",
    "plt.legend()\n",
    "plt.show()"
   ]
  },
  {
   "cell_type": "code",
   "execution_count": 36,
   "metadata": {
    "collapsed": true
   },
   "outputs": [],
   "source": [
    "# For some slices (columns) through all rows compute std\n",
    "l = 30\n",
    "num_bins = int(len(X_train[0][672000 : -786000]) / l)\n",
    "means = []\n",
    "for i in range(0, len(X_train)):\n",
    "    row = X_train[i][672000 : -786000]\n",
    "    row = row[0 : num_bins*l]\n",
    "    splits = np.split(row, num_bins)\n",
    "    means.append(np.mean(splits, axis=1))\n",
    "\n",
    "col_std = []\n",
    "for col in np.array(means).T:\n",
    "    col_std.append(np.std(col))\n"
   ]
  },
  {
   "cell_type": "code",
   "execution_count": 37,
   "metadata": {},
   "outputs": [
    {
     "name": "stdout",
     "output_type": "stream",
     "text": [
      "92212 are zero of 166166 , used len: 30\n"
     ]
    }
   ],
   "source": [
    "#plt.hist(y, 50, normed=1, facecolor='green', alpha=0.75, label='age 20')\n",
    "#plt.show()\n",
    "col_std = np.array(col_std)\n",
    "list((col_std == 0))\n",
    "zero_std_ind = np.where(col_std==0)[0]\n",
    "np.savetxt('data/zero_std_ind_'+str(l)+'.csv', zero_std_ind, delimiter=',')\n",
    "print(len(zero_std_ind), 'are zero of', len(col_std), ', used len:', l)"
   ]
  },
  {
   "cell_type": "code",
   "execution_count": 33,
   "metadata": {},
   "outputs": [
    {
     "data": {
      "text/plain": [
       "147900"
      ]
     },
     "execution_count": 33,
     "metadata": {},
     "output_type": "execute_result"
    }
   ],
   "source": [
    "y\n",
    "len(col_std)\n",
    "#len(np.genfromtxt('data/zero_std_ind.csv', delimiter=','))"
   ]
  }
 ],
 "metadata": {
  "kernelspec": {
   "display_name": "Python 3",
   "language": "python",
   "name": "python3"
  },
  "language_info": {
   "codemirror_mode": {
    "name": "ipython",
    "version": 3
   },
   "file_extension": ".py",
   "mimetype": "text/x-python",
   "name": "python",
   "nbconvert_exporter": "python",
   "pygments_lexer": "ipython3",
   "version": "3.6.2"
  }
 },
 "nbformat": 4,
 "nbformat_minor": 2
}

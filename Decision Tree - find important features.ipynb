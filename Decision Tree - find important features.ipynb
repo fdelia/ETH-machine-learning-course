{
 "cells": [
  {
   "cell_type": "code",
   "execution_count": 41,
   "metadata": {
    "collapsed": true
   },
   "outputs": [],
   "source": [
    "import numpy as np\n",
    "import matplotlib.pyplot as plt\n",
    "import pandas as pd\n",
    "\n",
    "#load_n = 50 # from 280\n",
    "X_train = np.load('data/X_train.npy')#[0:load_n]\n",
    "y_train = np.genfromtxt('data/y_1.csv', delimiter='\\n')#[0:load_n]\n"
   ]
  },
  {
   "cell_type": "code",
   "execution_count": 11,
   "metadata": {},
   "outputs": [
    {
     "name": "stdout",
     "output_type": "stream",
     "text": [
      "6443008\n"
     ]
    }
   ],
   "source": [
    "# Add feature with random numbers\n",
    "# gen random numbers\n",
    "# add to data set\n",
    "max_int = np.max(X_train[0])\n",
    "X_train_new = []\n",
    "print(len(X_train[0]))\n",
    "for i, row in enumerate(X_train):\n",
    "    X_train_new.append(np.append(X_train[i], np.random.randint(max_int)))\n",
    "    \n",
    "X_train = np.array(X_train_new)\n",
    "del X_train_new\n",
    "print(len(X_train[0]))\n",
    "\n",
    "# Do it like this\n",
    "tN = 10\n",
    "a = np.random.rand(N,N)\n",
    "b = np.zeros((N,N+1))\n",
    "b[:,:-1] = a"
   ]
  },
  {
   "cell_type": "code",
   "execution_count": 13,
   "metadata": {},
   "outputs": [
    {
     "data": {
      "text/plain": [
       "DecisionTreeRegressor(criterion='mse', max_depth=4, max_features=None,\n",
       "           max_leaf_nodes=None, min_impurity_decrease=0.0,\n",
       "           min_impurity_split=None, min_samples_leaf=1,\n",
       "           min_samples_split=2, min_weight_fraction_leaf=0.0,\n",
       "           presort=False, random_state=None, splitter='best')"
      ]
     },
     "execution_count": 13,
     "metadata": {},
     "output_type": "execute_result"
    }
   ],
   "source": [
    "# Train decision tree model\n",
    "from sklearn.tree import DecisionTreeRegressor\n",
    "# from sklearn.ensemble import ExtraTreesClassifier\n",
    "\n",
    "regr = DecisionTreeRegressor(max_depth=4)\n",
    "regr.fit(X_train, y_train)"
   ]
  },
  {
   "cell_type": "code",
   "execution_count": 30,
   "metadata": {},
   "outputs": [
    {
     "data": {
      "text/plain": [
       "[(2840202, 0.72266944714206394),\n",
       " (3068332, 0.06888752125207484),\n",
       " (3760490, 0.065983129116628764),\n",
       " (3216672, 0.043998933908273405),\n",
       " (3207918, 0.024494639376667009),\n",
       " (5364180, 0.016905535866513416),\n",
       " (1149200, 0.012810222014025385),\n",
       " (1733846, 0.012042646594167332),\n",
       " (3529729, 0.011361716114977936),\n",
       " (1891425, 0.006949498949287862),\n",
       " (4474482, 0.0059437029132285938),\n",
       " (3778271, 0.0039435903799835501),\n",
       " (3788513, 0.0027202129813155328),\n",
       " (1361955, 0.0012102506893728847),\n",
       " (4455500, 7.895270141953137e-05),\n",
       " (0, 0.0),\n",
       " (1, 0.0),\n",
       " (2, 0.0),\n",
       " (3, 0.0),\n",
       " (4, 0.0),\n",
       " (5, 0.0),\n",
       " (6, 0.0),\n",
       " (7, 0.0),\n",
       " (8, 0.0),\n",
       " (9, 0.0),\n",
       " (10, 0.0),\n",
       " (11, 0.0),\n",
       " (12, 0.0),\n",
       " (13, 0.0),\n",
       " (14, 0.0)]"
      ]
     },
     "execution_count": 30,
     "metadata": {},
     "output_type": "execute_result"
    }
   ],
   "source": [
    "# Show which features are important incl. the random number feature\n",
    "\n",
    "importances = regr.feature_importances_\n",
    "\n",
    "data = zip(range(0, len(X_train[0])), importances)\n",
    "sorted_by_second = sorted(data, key=lambda tup: tup[1], reverse=True)\n",
    "\n",
    "# Random column seems to have no importance, which is good\n",
    "# But only few columns are important, which is strange\n",
    "sorted_by_second[:30]"
   ]
  },
  {
   "cell_type": "code",
   "execution_count": 34,
   "metadata": {},
   "outputs": [],
   "source": [
    "# Save which features are unimportant\n",
    "indexes = [x for x, y in sorted_by_second[:1000] if y > 0]\n",
    "np.savetxt('decision_tree_features.csv', indexes, delimiter=',', fmt='%d') "
   ]
  },
  {
   "cell_type": "code",
   "execution_count": 62,
   "metadata": {},
   "outputs": [
    {
     "data": {
      "text/plain": [
       "array([ 73.40512459,  74.5697127 ,  58.38429152,  72.76562466,\n",
       "        81.06703432,  71.74375949,  33.41941942,  36.67235924,\n",
       "        40.20867067,  56.77195744,  23.90850339,  52.92033455,\n",
       "        76.31552397,  53.73391486,  22.2951098 ,  78.96117731,\n",
       "        20.01342389,  80.84705513,  84.50014045,  90.14391054,\n",
       "        79.25350692,  25.02058741,  77.08701493,  83.45518921,\n",
       "        77.78430604,  20.17269018,  62.02328321,  25.29163087,\n",
       "        40.23215908,  43.70675869,  68.26578925,  31.52213706,\n",
       "        24.01946585,  50.81632797,  40.56532801,  83.69276131,\n",
       "        87.42179774,  85.7516236 ,  72.70729284,  83.9147481 ,\n",
       "        25.03122095,  74.00605105,  38.6955044 ,  22.35470433,\n",
       "        53.56902238,  55.98624594,  42.58009366,  22.46893444,\n",
       "        25.84916212,  79.84550255,  46.93439649,  75.25405342,\n",
       "        38.89095892,  35.80934371,  52.64421075,  81.41789278,\n",
       "        75.86817922,  76.43871159,  33.6248466 ,  69.89181464,\n",
       "        71.21289036,  70.54314302,  32.17123687,  33.85730882,\n",
       "        19.58091945,  25.56540372,  51.93489976,  20.69553076,\n",
       "        78.96230875,  59.41287513,  79.52836227,  78.14214466,\n",
       "        22.86439421,  26.55279606,  52.63091909,  79.60939152,\n",
       "        40.85846163,  71.63524314,  28.05793165,  33.36561667,\n",
       "        60.98089016,  77.53019117,  72.39370212,  63.1700384 ,\n",
       "        31.3164876 ,  74.69979003,  25.47782906,  40.89857754,\n",
       "        28.26107077,  75.06807198,  44.46828783,  29.55787122,\n",
       "        29.53355513,  19.6349755 ,  79.1055195 ,  77.10248904,\n",
       "        70.65989893,  71.33869004,  46.10796129,  46.50083131,\n",
       "        23.84403984,  29.67548884,  39.10731638,  84.82908391,\n",
       "        33.66903538,  25.98418526,  77.22702311,  29.02277764,\n",
       "        24.01145924,  89.27005505,  30.96031823,  27.49416233,\n",
       "        20.76547827,  73.61457578,  79.65216933,  23.50201175,\n",
       "        70.95265382,  70.00983257,  28.24989538,  20.11226791,\n",
       "        34.67262384,  32.02707243,  24.22836493,  28.21227994,\n",
       "        71.91620993,  29.61781907,  52.00537701,  75.06957471,\n",
       "        18.7957393 ,  74.18410381,  39.13381874,  31.07662828,\n",
       "        47.38988432,  21.84628365,  21.08393883,  28.15822563,\n",
       "        73.52658146,  76.19873478])"
      ]
     },
     "execution_count": 62,
     "metadata": {},
     "output_type": "execute_result"
    }
   ],
   "source": [
    "# SVM with rbf kernel\n",
    "from sklearn.ensemble import GradientBoostingRegressor\n",
    "\n",
    "model = GradientBoostingRegressor(n_estimators=10000, learning_rate=0.1)\n",
    "\n",
    "test_data = np.load('data/X_test.npy')\n",
    "X_new = []\n",
    "X_test = []\n",
    "for row in X_train:\n",
    "    X_new.append(np.take(row, indexes))\n",
    "for row in test_data:\n",
    "    X_test.append(np.take(row, indexes))\n",
    "\n",
    "\n",
    "model.fit(X_new, y_train)\n",
    "predictions = model.predict(X_test)\n",
    "f = open('out.csv', 'w')\n",
    "f.write('ID,Prediction\\n')\n",
    "for i, p in enumerate(predictions):\n",
    "    f.write(str(i+1) + ',' + str(p) + '\\n')\n",
    "f.close()\n",
    "predictions"
   ]
  },
  {
   "cell_type": "code",
   "execution_count": 63,
   "metadata": {},
   "outputs": [
    {
     "data": {
      "text/plain": [
       "0.56009773790282791"
      ]
     },
     "execution_count": 63,
     "metadata": {},
     "output_type": "execute_result"
    }
   ],
   "source": [
    "np.mean(model.train_score_)"
   ]
  },
  {
   "cell_type": "markdown",
   "metadata": {},
   "source": [
    "Obviously this way didn't work out. Score was ~230. :)"
   ]
  }
 ],
 "metadata": {
  "kernelspec": {
   "display_name": "Python 3",
   "language": "python",
   "name": "python3"
  },
  "language_info": {
   "codemirror_mode": {
    "name": "ipython",
    "version": 3
   },
   "file_extension": ".py",
   "mimetype": "text/x-python",
   "name": "python",
   "nbconvert_exporter": "python",
   "pygments_lexer": "ipython3",
   "version": "3.6.2"
  }
 },
 "nbformat": 4,
 "nbformat_minor": 2
}
